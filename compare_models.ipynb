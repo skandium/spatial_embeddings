{
 "cells": [
  {
   "cell_type": "code",
   "execution_count": null,
   "id": "6be45e3e",
   "metadata": {},
   "outputs": [],
   "source": [
    "# Force to use CPU\n",
    "import os\n",
    "os.environ[\"CUDA_VISIBLE_DEVICES\"] = \"-1\""
   ]
  },
  {
   "cell_type": "code",
   "execution_count": null,
   "id": "51bb40c8",
   "metadata": {},
   "outputs": [],
   "source": [
    "import tensorflow as tf\n",
    "\n",
    "# Check if using GPU\n",
    "if tf.config.list_physical_devices('GPU'):\n",
    "    print(\"Using GPU\")\n",
    "else:\n",
    "    print(\"Using CPU\")"
   ]
  },
  {
   "cell_type": "code",
   "execution_count": null,
   "id": "c29f947a",
   "metadata": {},
   "outputs": [],
   "source": [
    "import pandas as pd\n",
    "from sklearn.datasets import load_breast_cancer as load_data\n",
    "import numpy as np\n",
    "import matplotlib.pyplot as plt\n",
    "from tensorflow.keras import layers\n",
    "from tensorflow import keras\n",
    "from sklearn.ensemble import RandomForestClassifier\n",
    "from keras.layers import Dense, Dropout, Embedding, concatenate, Flatten, BatchNormalization, Activation, Discretization, Add\n",
    "from keras import models\n",
    "import keras\n",
    "from tensorflow.keras.optimizers import RMSprop\n",
    "from sklearn.tree import DecisionTreeClassifier\n",
    "from sklearn.tree import plot_tree\n",
    "import lightgbm as lgb"
   ]
  },
  {
   "cell_type": "code",
   "execution_count": null,
   "id": "746e571d",
   "metadata": {},
   "outputs": [],
   "source": [
    "from utils import clean, preprocess"
   ]
  },
  {
   "cell_type": "code",
   "execution_count": null,
   "id": "b6a2b83f",
   "metadata": {},
   "outputs": [],
   "source": [
    "plt.rcParams['figure.figsize'] = [20,20]"
   ]
  },
  {
   "cell_type": "markdown",
   "id": "16232f9a",
   "metadata": {},
   "source": [
    "# Prepare data"
   ]
  },
  {
   "cell_type": "code",
   "execution_count": null,
   "id": "16bc7a45",
   "metadata": {},
   "outputs": [],
   "source": [
    "df = pd.read_csv(\"nyc-taxi-trip-duration/train.csv\")"
   ]
  },
  {
   "cell_type": "code",
   "execution_count": null,
   "id": "122c4b6f",
   "metadata": {},
   "outputs": [],
   "source": []
  },
  {
   "cell_type": "code",
   "execution_count": null,
   "id": "af197449",
   "metadata": {},
   "outputs": [],
   "source": [
    "TREE_DEPTH = 5"
   ]
  },
  {
   "cell_type": "code",
   "execution_count": null,
   "id": "00c9f531",
   "metadata": {},
   "outputs": [],
   "source": [
    "df = clean(df)"
   ]
  },
  {
   "cell_type": "code",
   "execution_count": null,
   "id": "6a45ddd7",
   "metadata": {},
   "outputs": [],
   "source": [
    "df, hash_vocab_size, h3_cell_mappings  = preprocess(df)"
   ]
  },
  {
   "cell_type": "code",
   "execution_count": null,
   "id": "4566c1da",
   "metadata": {},
   "outputs": [],
   "source": []
  },
  {
   "cell_type": "code",
   "execution_count": null,
   "id": "2b10884f",
   "metadata": {},
   "outputs": [],
   "source": [
    "weeks_of_data = (df[\"timestamp\"].max() - df[\"timestamp\"].min()).days // 7\n",
    "print(weeks_of_data)"
   ]
  },
  {
   "cell_type": "code",
   "execution_count": null,
   "id": "18e2a53a",
   "metadata": {},
   "outputs": [],
   "source": [
    "test_cutoff = df[\"timestamp\"].max() - pd.Timedelta(weeks=4)"
   ]
  },
  {
   "cell_type": "code",
   "execution_count": null,
   "id": "a1ca0afe",
   "metadata": {},
   "outputs": [],
   "source": [
    "valid_cutoff = test_cutoff - pd.Timedelta(weeks=2)"
   ]
  },
  {
   "cell_type": "code",
   "execution_count": null,
   "id": "50c8e002",
   "metadata": {},
   "outputs": [],
   "source": []
  },
  {
   "cell_type": "code",
   "execution_count": null,
   "id": "d6e1655d",
   "metadata": {},
   "outputs": [],
   "source": [
    "# Split by timestamp to avoid temporal leakage\n",
    "df_test = df[df[\"timestamp\"] > test_cutoff]\n",
    "df_train = df[df[\"timestamp\"] < valid_cutoff]\n",
    "df_valid = df[df[\"timestamp\"].between(valid_cutoff, test_cutoff)]"
   ]
  },
  {
   "cell_type": "code",
   "execution_count": null,
   "id": "026abc9d",
   "metadata": {},
   "outputs": [],
   "source": [
    "print(df_train.shape)\n",
    "print(df_valid.shape)\n",
    "print(df_test.shape)"
   ]
  },
  {
   "cell_type": "code",
   "execution_count": null,
   "id": "0ba3daa5",
   "metadata": {},
   "outputs": [],
   "source": []
  },
  {
   "cell_type": "code",
   "execution_count": null,
   "id": "d6dbb774",
   "metadata": {},
   "outputs": [],
   "source": [
    "h3_resolutions = [4, 5, 6, 7, 8, 9, 10] # Which to actually use for embeddings"
   ]
  },
  {
   "cell_type": "code",
   "execution_count": null,
   "id": "1d8f599e",
   "metadata": {},
   "outputs": [],
   "source": []
  },
  {
   "cell_type": "code",
   "execution_count": null,
   "id": "98a4c38d",
   "metadata": {},
   "outputs": [],
   "source": [
    "numeric_features = [\n",
    "\"pickup_longitude\",\n",
    "\"pickup_latitude\",\n",
    "\"dropoff_longitude\",\n",
    "\"dropoff_latitude\",\n",
    "# \"haversine_distance\"\n",
    "]"
   ]
  },
  {
   "cell_type": "code",
   "execution_count": null,
   "id": "bc9a8b24",
   "metadata": {},
   "outputs": [],
   "source": []
  },
  {
   "cell_type": "code",
   "execution_count": null,
   "id": "bd5e5f84",
   "metadata": {},
   "outputs": [],
   "source": [
    "y = df[\"trip_duration\"]"
   ]
  },
  {
   "cell_type": "code",
   "execution_count": null,
   "id": "75f5e6af",
   "metadata": {},
   "outputs": [],
   "source": [
    "X = df[numeric_features]"
   ]
  },
  {
   "cell_type": "code",
   "execution_count": null,
   "id": "1797e88d",
   "metadata": {},
   "outputs": [],
   "source": [
    "X_train = df_train[numeric_features]\n",
    "y_train = df_train[\"trip_duration\"]\n",
    "\n",
    "X_valid = df_valid[numeric_features]\n",
    "y_valid = df_valid[\"trip_duration\"]\n",
    "\n",
    "X_test = df_test[numeric_features]\n",
    "y_test = df_test[\"trip_duration\"]"
   ]
  },
  {
   "cell_type": "code",
   "execution_count": null,
   "id": "4283e7ba",
   "metadata": {},
   "outputs": [],
   "source": [
    "print(X_train.shape)\n",
    "print(X_valid.shape)\n",
    "print(X_test.shape)"
   ]
  },
  {
   "cell_type": "code",
   "execution_count": null,
   "id": "15d8c2a4",
   "metadata": {},
   "outputs": [],
   "source": [
    "X_train_h3 = df_train[[x for x in df.columns if x.startswith(\"h3_hash_index\")]]\n",
    "X_valid_h3 = df_valid[[x for x in df.columns if x.startswith(\"h3_hash_index\")]]\n",
    "X_test_h3 = df_test[[x for x in df.columns if x.startswith(\"h3_hash_index\")]]"
   ]
  },
  {
   "cell_type": "code",
   "execution_count": null,
   "id": "a56da2bf",
   "metadata": {},
   "outputs": [],
   "source": [
    "del df"
   ]
  },
  {
   "cell_type": "markdown",
   "id": "2dfd54f1",
   "metadata": {},
   "source": [
    "# Train trees"
   ]
  },
  {
   "cell_type": "code",
   "execution_count": null,
   "id": "801347be",
   "metadata": {},
   "outputs": [],
   "source": [
    "params = {\n",
    "    'boosting_type': 'gbdt',\n",
    "    'objective': 'regression',\n",
    "    'metric': 'mae',\n",
    "    'max_depth': TREE_DEPTH, \n",
    "    'learning_rate': 0.1,\n",
    "    'verbose': 0\n",
    "}"
   ]
  },
  {
   "cell_type": "code",
   "execution_count": null,
   "id": "7f884b54",
   "metadata": {},
   "outputs": [],
   "source": [
    "def train_lgb(num_estimators: int, params: dict):\n",
    "    lgb_train = lgb.Dataset(X_train, y_train)\n",
    "    lgb_eval = lgb.Dataset(X_valid, y_valid, reference=lgb_train)\n",
    "    \n",
    "    model = lgb.train(params,\n",
    "                lgb_train,\n",
    "                num_boost_round=num_estimators,\n",
    "                valid_sets=[lgb_train, lgb_eval],\n",
    "                early_stopping_rounds=50)\n",
    "    \n",
    "    return model"
   ]
  },
  {
   "cell_type": "code",
   "execution_count": null,
   "id": "c4e67835",
   "metadata": {},
   "outputs": [],
   "source": []
  },
  {
   "cell_type": "code",
   "execution_count": null,
   "id": "3b73437e",
   "metadata": {},
   "outputs": [],
   "source": [
    "# Single decision tree\n",
    "clf = DecisionTreeClassifier(max_depth=TREE_DEPTH)\n",
    "clf = clf.fit(X_train, y_train)\n",
    "plot_tree(clf)\n",
    "plt.show()"
   ]
  },
  {
   "cell_type": "code",
   "execution_count": null,
   "id": "e3bd6e70",
   "metadata": {},
   "outputs": [],
   "source": [
    "clf_pred = clf.predict(X_test)"
   ]
  },
  {
   "cell_type": "code",
   "execution_count": null,
   "id": "90b48044",
   "metadata": {},
   "outputs": [],
   "source": []
  },
  {
   "cell_type": "code",
   "execution_count": null,
   "id": "c05b2ee6",
   "metadata": {},
   "outputs": [],
   "source": [
    "# Small ensemble of DT\n",
    "lgb_tiny = train_lgb(num_estimators=10, params=params)"
   ]
  },
  {
   "cell_type": "code",
   "execution_count": null,
   "id": "3223421f",
   "metadata": {},
   "outputs": [],
   "source": [
    "lgb_tiny_pred = lgb_tiny.predict(X_test)"
   ]
  },
  {
   "cell_type": "code",
   "execution_count": null,
   "id": "f29586a5",
   "metadata": {},
   "outputs": [],
   "source": []
  },
  {
   "cell_type": "code",
   "execution_count": null,
   "id": "4bdd3f27",
   "metadata": {},
   "outputs": [],
   "source": [
    "# Full ensemble of DT\n",
    "lgb_full = train_lgb(num_estimators=50000, params=params)"
   ]
  },
  {
   "cell_type": "code",
   "execution_count": null,
   "id": "317e61ce",
   "metadata": {},
   "outputs": [],
   "source": [
    "lgb_full_pred = lgb_full.predict(X_test, num_iteration=lgb_full.best_iteration)"
   ]
  },
  {
   "cell_type": "markdown",
   "id": "02391bd5",
   "metadata": {},
   "source": [
    "## Discretize features"
   ]
  },
  {
   "cell_type": "code",
   "execution_count": null,
   "id": "b9845c3a",
   "metadata": {},
   "outputs": [],
   "source": [
    "def create_feature_bins(X, all_feature_splits: dict):\n",
    "    X_binned = pd.DataFrame()\n",
    "    for feature in all_feature_splits:\n",
    "        feature_name = numeric_features[feature]\n",
    "        bins = Discretization(bin_boundaries=all_feature_splits[feature])(X[feature_name])\n",
    "        X_binned[feature_name] = bins\n",
    "    return X_binned"
   ]
  },
  {
   "cell_type": "code",
   "execution_count": null,
   "id": "482bc8ba",
   "metadata": {},
   "outputs": [],
   "source": []
  },
  {
   "cell_type": "code",
   "execution_count": null,
   "id": "f54f0069",
   "metadata": {},
   "outputs": [],
   "source": [
    "# Create bins based on quantiles\n",
    "QUANTILE_BINS = 100\n",
    "# Calculate quantiles (based on training set)\n",
    "quantiles = np.linspace(0, 1, num=QUANTILE_BINS)\n",
    "print(f\"Calculating {len(quantiles)} quantiles\")\n",
    "\n",
    "quantile_values = {}\n",
    "for i, cf in enumerate(numeric_features):\n",
    "    quantile_values[i] = list(np.quantile(X_train[cf], quantiles))\n",
    "    \n",
    "X_binned_by_quantile = []\n",
    "for X, name in zip([X_train, X_valid, X_test], [\"train\", \"valid\", \"test\"]):\n",
    "    X_binned_by_quantile.append(create_feature_bins(X, quantile_values))"
   ]
  },
  {
   "cell_type": "markdown",
   "id": "576f5157",
   "metadata": {},
   "source": [
    "# Train neural networks"
   ]
  },
  {
   "cell_type": "code",
   "execution_count": null,
   "id": "07ef6c76",
   "metadata": {},
   "outputs": [],
   "source": [
    "from keras_models import MLPModel, EmbeddedBinModel, EmbeddedH3Model"
   ]
  },
  {
   "cell_type": "code",
   "execution_count": null,
   "id": "5310d66f",
   "metadata": {},
   "outputs": [],
   "source": []
  },
  {
   "cell_type": "code",
   "execution_count": null,
   "id": "f530f27e",
   "metadata": {},
   "outputs": [],
   "source": [
    "# # Logistic regression on quantile bins\n",
    "# lr = LogisticRegressionTrainer()\n",
    "# lr.train(x_train=X_binned_by_quantile[0], y_train=y_train, x_valid=X_binned_by_quantile[1], y_valid=y_valid)"
   ]
  },
  {
   "cell_type": "code",
   "execution_count": null,
   "id": "6b15d49b",
   "metadata": {},
   "outputs": [],
   "source": []
  },
  {
   "cell_type": "code",
   "execution_count": null,
   "id": "f4b4f566",
   "metadata": {},
   "outputs": [],
   "source": [
    "hyperparams = {\n",
    "    \"batch_size\": 128,\n",
    "    \"epochs\": 100,\n",
    "    \"starting_lr\": 1e-3\n",
    "}"
   ]
  },
  {
   "cell_type": "code",
   "execution_count": null,
   "id": "248c2658",
   "metadata": {},
   "outputs": [],
   "source": []
  },
  {
   "cell_type": "code",
   "execution_count": null,
   "id": "d7141216",
   "metadata": {},
   "outputs": [],
   "source": [
    "# Simple MLP on raw coordinates\n",
    "mlp = MLPModel(hyperparams=hyperparams)\n",
    "mlp.train(x_train=X_train, y_train=y_train, x_valid=X_valid, y_valid=y_valid)\n",
    "mlp_pred = mlp.predict(X_test)"
   ]
  },
  {
   "cell_type": "code",
   "execution_count": null,
   "id": "0110159f",
   "metadata": {},
   "outputs": [],
   "source": []
  },
  {
   "cell_type": "code",
   "execution_count": null,
   "id": "4bac4371",
   "metadata": {},
   "outputs": [],
   "source": [
    "# Embeddings on quantized contionuous features\n",
    "quant_embed = EmbeddedBinModel(numeric_features=numeric_features, hyperparams=hyperparams)\n",
    "quant_embed.train(x_train=X_binned_by_quantile[0], y_train=y_train, x_valid=X_binned_by_quantile[1], y_valid=y_valid, discrete_bin_vocab_size=QUANTILE_BINS)\n",
    "quant_embed_pred = quant_embed.predict(X_binned_by_quantile[2])"
   ]
  },
  {
   "cell_type": "code",
   "execution_count": null,
   "id": "115e6ce4",
   "metadata": {},
   "outputs": [],
   "source": []
  },
  {
   "cell_type": "code",
   "execution_count": null,
   "id": "1cb0a38d",
   "metadata": {},
   "outputs": [],
   "source": [
    "# Embeddings on h3 cell indices\n",
    "h3_embed = EmbeddedH3Model(h3_resolutions=h3_resolutions, hyperparams=hyperparams)\n",
    "h3_embed.train(x_train=X_train_h3, y_train=y_train, x_valid=X_valid_h3, y_valid=y_valid, embedding_vocab_size=hash_vocab_size)\n",
    "h3_embed_pred = h3_embed.predict(X_test_h3)"
   ]
  },
  {
   "cell_type": "code",
   "execution_count": null,
   "id": "e33a450c",
   "metadata": {},
   "outputs": [],
   "source": []
  },
  {
   "cell_type": "code",
   "execution_count": null,
   "id": "86d2b95d",
   "metadata": {},
   "outputs": [],
   "source": [
    "from sklearn.metrics import mean_absolute_error, mean_squared_error, r2_score, median_absolute_error"
   ]
  },
  {
   "cell_type": "code",
   "execution_count": null,
   "id": "ad97b0d1",
   "metadata": {},
   "outputs": [],
   "source": [
    "def validate_metrics(y_true, y_pred):\n",
    "    def median_pred(y_true, y_pred):\n",
    "        return np.median(y_pred)\n",
    "    \n",
    "    metrics = {\n",
    "        \"MAE\": mean_absolute_error,\n",
    "        \"MdAE\": median_absolute_error,\n",
    "        \"MSE\": mean_squared_error,\n",
    "        \"Mdn\": median_pred,\n",
    "        \"R2\": r2_score\n",
    "    }\n",
    "    \n",
    "    for metric in metrics:\n",
    "        print(metric)\n",
    "        print(round(metrics[metric](y_true=y_true, y_pred=y_pred), 2))"
   ]
  },
  {
   "cell_type": "code",
   "execution_count": null,
   "id": "ca09b401",
   "metadata": {},
   "outputs": [],
   "source": []
  },
  {
   "cell_type": "code",
   "execution_count": null,
   "id": "76e4d3a0",
   "metadata": {},
   "outputs": [],
   "source": [
    "validate_metrics(y_true=y_test, y_pred=clf_pred)"
   ]
  },
  {
   "cell_type": "code",
   "execution_count": null,
   "id": "6587207f",
   "metadata": {},
   "outputs": [],
   "source": [
    "validate_metrics(y_true=y_test, y_pred=lgb_tiny_pred)"
   ]
  },
  {
   "cell_type": "code",
   "execution_count": null,
   "id": "cbd12043",
   "metadata": {},
   "outputs": [],
   "source": [
    "validate_metrics(y_true=y_test, y_pred=lgb_full_pred)"
   ]
  },
  {
   "cell_type": "code",
   "execution_count": null,
   "id": "11dcfdd8",
   "metadata": {},
   "outputs": [],
   "source": [
    "validate_metrics(y_true=y_test, y_pred=quant_embed_pred)"
   ]
  },
  {
   "cell_type": "code",
   "execution_count": null,
   "id": "c1cd8574",
   "metadata": {},
   "outputs": [],
   "source": [
    "validate_metrics(y_true=y_test, y_pred=h3_embed_pred)"
   ]
  },
  {
   "cell_type": "code",
   "execution_count": null,
   "id": "ac5b38fc",
   "metadata": {},
   "outputs": [],
   "source": []
  },
  {
   "cell_type": "code",
   "execution_count": null,
   "id": "711e311d",
   "metadata": {},
   "outputs": [],
   "source": []
  }
 ],
 "metadata": {
  "kernelspec": {
   "display_name": "Python [conda env:root] *",
   "language": "python",
   "name": "conda-root-py"
  },
  "language_info": {
   "codemirror_mode": {
    "name": "ipython",
    "version": 3
   },
   "file_extension": ".py",
   "mimetype": "text/x-python",
   "name": "python",
   "nbconvert_exporter": "python",
   "pygments_lexer": "ipython3",
   "version": "3.9.5"
  }
 },
 "nbformat": 4,
 "nbformat_minor": 5
}
